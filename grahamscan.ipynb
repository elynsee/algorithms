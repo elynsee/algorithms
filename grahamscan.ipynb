{
 "cells": [
  {
   "cell_type": "markdown",
   "metadata": {},
   "source": [
    "# Graham scan algorithm"
   ]
  },
  {
   "cell_type": "markdown",
   "metadata": {},
   "source": [
    "Use the cell below for all python code needed to realise the Graham scan algorithm (including any auxiliary data structures and functions you might need). The `grahamscan()` function itself should take as input parameter a list of 2D points (`inputSet`), and return the subset of such points that lie on the convex hull (`outputSet`)."
   ]
  },
  {
   "cell_type": "code",
   "execution_count": 1,
   "metadata": {},
   "outputs": [],
   "source": [
    "import math\n",
    " \n",
    "def heapify(listOfPoints,lowPoint, size , i):\n",
    "    #i isa the root of the subtree\n",
    "    largest = i \n",
    "    left = 2*i +1\n",
    "    right = 2*i +2\n",
    "    #check if left child exists and is bigger than root\n",
    "    if left < size and polarAngle(listOfPoints[largest], lowPoint) < polarAngle(listOfPoints[left], lowPoint) :\n",
    "        largest = left\n",
    "    #same with right child and being bigger than the largest\n",
    "    if right < size and  polarAngle(listOfPoints[largest], lowPoint) < polarAngle(listOfPoints[right], lowPoint):\n",
    "        largest = right\n",
    "    # if it changed swap\n",
    "    if largest != i :\n",
    "        (listOfPoints[i], listOfPoints[largest]) = (listOfPoints[largest], listOfPoints[i])\n",
    "        #apply the function again on the swapped root's new subtree\n",
    "        heapify(listOfPoints, lowPoint, size, largest)\n",
    "\n",
    "def heapsort(listOfPoints, lowPoint):\n",
    "    n = len(listOfPoints)\n",
    "    #start at the last parent which is located at index n/2 - 1\n",
    "    # we build the heap from the bottom up\n",
    "    for i in range (n//2 -1, -1, -1):\n",
    "        heapify (listOfPoints, lowPoint,n, i)\n",
    "\n",
    "    for i in range(n-1, 0 , -1):\n",
    "        listOfPoints[i], listOfPoints[0] = listOfPoints[0], listOfPoints[i]\n",
    "        #heapify the root after swapping(sinking)\n",
    "        heapify (listOfPoints, lowPoint, i, 0)\n",
    "\n",
    "def Radius(point, lowPoint):\n",
    "    #compute the distance in with the reference in case two colinear points are found\n",
    "    r = math.sqrt((((point[0] - lowPoint[0])**2) + ((point[1] - lowPoint[1])**2)))\n",
    "    return r\n",
    "\n",
    "def polarAngle (point, lowPoint):\n",
    "    Y_total = point[1] - lowPoint[1]\n",
    "    X_total = point[0] - lowPoint[0]\n",
    "    if Y_total == 0 and X_total == 0:\n",
    "        return -math.inf #different from 0 so as to not cause any problem for any angle comparison as it is a special point\n",
    "    else :\n",
    "        return math.atan2(Y_total,X_total)    \n",
    "\n",
    "    \n",
    "#function to find lowest and leftmost point\n",
    "def lowy_left(inputData):\n",
    "    lowPoint = [math.inf, math.inf]\n",
    "    for point in inputData:\n",
    "        #find the point with the lowest y coordinate\n",
    "        if point[1] < lowPoint[1]:\n",
    "            lowPoint[0] = point [0]\n",
    "            lowPoint[1] = point [1]\n",
    "        #if two points have the same y check which one has the smaller x coordinate\n",
    "        elif point[1] == lowPoint[1] and point[0] < lowPoint[0]:\n",
    "            lowPoint[0] = point [0]\n",
    "            lowPoint[1] = point [1]\n",
    "    return lowPoint\n",
    "\n",
    "def removeColinear(sortedPoints, lowPoint):\n",
    "    for i in range(len(sortedPoints)-1, 0, -1):\n",
    "        if polarAngle(sortedPoints[i], lowPoint) == polarAngle(sortedPoints[i-1], lowPoint) :\n",
    "            if Radius(sortedPoints[i], lowPoint) <= Radius(sortedPoints[i-1], lowPoint):\n",
    "                del sortedPoints[i]\n",
    "            else :\n",
    "                del sortedPoints[i-1]\n",
    "\n",
    "def clockwiseTurns(p1, p2, p3):\n",
    "    #the function calculates the z coordinate of the cross product of the vectors p1p2 and p1p3\n",
    "    #with p1 being the point below the top of the stack\n",
    "    #p2 being the top of the stack\n",
    "    #and p3 being the current point\n",
    "    #if it is positive the turn is counter-clockwise and if negative clockwise\n",
    "    return ((p2[0]-p1[0])*(p3[1]-p1[1]) - (p2[1] - p1[1])*(p3[0]-p1[0]))\n",
    "\n",
    "def cross_product(p1,p2,p3):\n",
    "    y1 = p1[1] - p2[1]\n",
    "    y2 = p1[1] - p3[1]\n",
    "    x1 = p1[0] - p2[0]\n",
    "    x2 = p1[0] - p3[0]\n",
    "    return y2 * x1 - y1 * x2\n",
    "    \n",
    "def grahamscan(inputSet):\n",
    "    #let points be the list of points\n",
    "    points = inputSet #list of points\n",
    "    outputSet = [] #outputSet is used as a stack\n",
    "    \n",
    "    #find the lowest y-coordinate and leftmost point, called P0\n",
    "    lowPoint = lowy_left(inputSet)\n",
    "    heapsort(points, lowPoint)\n",
    "    removeColinear(points,lowPoint)\n",
    "\n",
    "    for currentPoint in points:\n",
    "        while len(outputSet) > 1 and clockwiseTurns(outputSet[-2], outputSet[-1], currentPoint) <= 0:   \n",
    "            outputSet.pop()\n",
    "        outputSet.append(currentPoint)    \n",
    "    return outputSet "
   ]
  },
  {
   "cell_type": "markdown",
   "metadata": {},
   "source": [
    "Use the cell below for all python code needed to generate test data points (both random and those representing worst-case scenario)."
   ]
  },
  {
   "cell_type": "code",
   "execution_count": 2,
   "metadata": {},
   "outputs": [],
   "source": [
    "import random\n",
    "\n",
    "maximumX = 32767\n",
    "maximumY = 32767\n",
    "minX = 0\n",
    "minY = 0\n",
    "mid = [(maximumX-minX)/2, (maximumY-minY)/2]\n",
    "data_points = [100,500,1000,5000,10000,15000,20000]\n",
    "\n",
    "# code for random data generation\n",
    "def random_data_generation(n):\n",
    "    points = []\n",
    "    for p in range(n):\n",
    "        while True:\n",
    "            x = random.randint(minX, maximumX)\n",
    "            y = random.randint(minY, maximumY)\n",
    "            point = [x,y]\n",
    "            if point not in points:\n",
    "                break\n",
    "        points.append(point) \n",
    "    return points\n",
    "\n",
    "# code for worst case data generation\n",
    "def worst_data_generation(n):\n",
    "    points = [[1,1],[30000,1],[15000,30000]]\n",
    "    while len(points)<=n:\n",
    "        x = random.randint(1, 30000)\n",
    "        y = random.randint(1, 30000)\n",
    "        point = [x,y]\n",
    "        if cross_product([1,1],point,[30000,1])<0 and cross_product([30000,1],point,[15000,30000])<0 and cross_product([15000,30000],point,[1,1])<0 and point not in points:\n",
    "            points.append(point)\n",
    "    return points"
   ]
  },
  {
   "cell_type": "markdown",
   "metadata": {},
   "source": [
    "Use the cell below for all python code needed to test the `grahamscan()` function on the data generated above."
   ]
  },
  {
   "cell_type": "code",
   "execution_count": 3,
   "metadata": {},
   "outputs": [],
   "source": [
    "import timeit\n",
    "\n",
    "#test code for random data generation\n",
    "def random_time(points, iterations):\n",
    "    time_data = []\n",
    "    data = random_data_generation(points)\n",
    "    total_time = 0\n",
    "    for i in range(iterations):\n",
    "        start_time = timeit.default_timer()\n",
    "        grahamscan(data)\n",
    "        time = timeit.default_timer() - start_time\n",
    "        time_data.append(time)\n",
    "    return time_data\n",
    "\n",
    "#test code for worst case data generation\n",
    "def worst_time(points, iterations):\n",
    "    time_data = []\n",
    "    data = worst_data_generation(points)\n",
    "    total_time = 0\n",
    "    for i in range(iterations):\n",
    "        start_time = timeit.default_timer()\n",
    "        grahamscan(data)\n",
    "        time = timeit.default_timer() - start_time\n",
    "        time_data.append(time)\n",
    "    return time_data"
   ]
  },
  {
   "cell_type": "markdown",
   "metadata": {},
   "source": [
    "*Oprional*: Feel free to use the code below on small datasets (e.g., N = 10) to visually inspect whether the algorithm has been implemented correctly. The fragment below assumes both `inputSet` and `outputSet` to be lists of 2D points, with each point being a list of 2 elements (e.g., `[[x1,y1], [x2,y2], ..., [x_k,y_k]]`)"
   ]
  },
  {
   "cell_type": "markdown",
   "metadata": {},
   "source": [
    "## Plotting Graph"
   ]
  },
  {
   "cell_type": "code",
   "execution_count": 4,
   "metadata": {},
   "outputs": [],
   "source": [
    "import matplotlib.pyplot as plt\n",
    "import numpy as np\n",
    "\n",
    "# plot a scattergraph with a line of best fit for all execution timings across 5 iterations  \n",
    "def plot_scatter(x, y):\n",
    "    #plot scattergraph\n",
    "    plt.scatter(x,y)\n",
    "    plt.title(\"Scatterplot of Results through 5 Iterations\")\n",
    "    plt.xlabel(\"Number of Points\")\n",
    "    plt.ylabel(\"Time (sec)\") \n",
    "    \n",
    "    #plot best-fit line\n",
    "    plt.plot(np.unique(x), np.poly1d(np.polyfit(x, y, 1))(np.unique(x)), color='red')\n",
    "    plt.show()"
   ]
  },
  {
   "cell_type": "markdown",
   "metadata": {},
   "source": [
    "## Test for Random Case"
   ]
  },
  {
   "cell_type": "code",
   "execution_count": 5,
   "metadata": {},
   "outputs": [
    {
     "data": {
      "image/png": "[encoded data removed]",
      "text/plain": [
       "<Figure size 432x288 with 1 Axes>"
      ]
     },
     "metadata": {
      "needs_background": "light"
     },
     "output_type": "display_data"
    },
    {
     "name": "stdout",
     "output_type": "stream",
     "text": [
      "The mean time for random cases for 100 data points are: 0.0011996000000010555 seconds\n",
      "The mean time for random cases for 500 data points are: 0.008844780000003993 seconds\n",
      "The mean time for random cases for 1000 data points are: 0.02182687999999757 seconds\n",
      "The mean time for random cases for 5000 data points are: 0.1305852999999985 seconds\n",
      "The mean time for random cases for 10000 data points are: 0.25275878000000207 seconds\n",
      "The mean time for random cases for 15000 data points are: 0.3817756199999991 seconds\n",
      "The mean time for random cases for 20000 data points are: 0.5415673399999974 seconds\n"
     ]
    }
   ],
   "source": [
    "all_random_time = []\n",
    "scatter_data = []\n",
    "total_mean_time = []\n",
    "count = 0\n",
    "iterations = 5\n",
    "\n",
    "for i in data_points:\n",
    "    all_random_time = random_time(i, iterations)\n",
    "    for data in all_random_time:\n",
    "        scatter_data.append([i, data])\n",
    "\n",
    "#plot scattergraph of results\n",
    "input_xs, input_ys = zip(*scatter_data)\n",
    "plot_scatter(input_xs, input_ys)\n",
    "\n",
    "#to group tuple in groups of 5\n",
    "def grouper(n, iterable): \n",
    "    args = [iter(iterable)] * n \n",
    "    return zip(*args) \n",
    "\n",
    "#print mean execution timings of each data point\n",
    "group = tuple(grouper(5, input_ys))  \n",
    "total_mean_time = [sum(tup) for tup in group]\n",
    "for i in data_points:\n",
    "    print(\"The mean time for random cases for\", i, \"data points are:\", (total_mean_time[count]/5), \"seconds\")\n",
    "    count += 1\n"
   ]
  },
  {
   "cell_type": "markdown",
   "metadata": {},
   "source": [
    "## Test for Worst Case"
   ]
  },
  {
   "cell_type": "code",
   "execution_count": 6,
   "metadata": {},
   "outputs": [
    {
     "data": {
      "image/png": "[encoded data removed]",
      "text/plain": [
       "<Figure size 432x288 with 1 Axes>"
      ]
     },
     "metadata": {
      "needs_background": "light"
     },
     "output_type": "display_data"
    },
    {
     "name": "stdout",
     "output_type": "stream",
     "text": [
      "The mean time for worst cases for 100 data points are: 0.0019535000000018956 seconds\n",
      "The mean time for worst cases for 500 data points are: 0.007211920000003147 seconds\n",
      "The mean time for worst cases for 1000 data points are: 0.01717270000000326 seconds\n",
      "The mean time for worst cases for 5000 data points are: 0.11500991999999996 seconds\n",
      "The mean time for worst cases for 10000 data points are: 0.2450083599999971 seconds\n",
      "The mean time for worst cases for 15000 data points are: 0.39060937999999795 seconds\n",
      "The mean time for worst cases for 20000 data points are: 0.5101307200000008 seconds\n"
     ]
    }
   ],
   "source": [
    "all_worst_time = []\n",
    "scatter_data = []\n",
    "total_mean_time = []\n",
    "count = 0\n",
    "iterations = 5\n",
    "\n",
    "for i in data_points:\n",
    "    all_worst_time = worst_time(i, iterations)\n",
    "    for data in all_worst_time:\n",
    "        scatter_data.append([i, data])\n",
    "\n",
    "#plot scattergraph of results\n",
    "input_xs, input_ys = zip(*scatter_data)\n",
    "plot_scatter(input_xs, input_ys)\n",
    "\n",
    "#to group tuple in groups of 5\n",
    "def grouper(n, iterable): \n",
    "    args = [iter(iterable)] * n \n",
    "    return zip(*args) \n",
    "\n",
    "#print mean execution timings of each data point\n",
    "group = tuple(grouper(5, input_ys))  \n",
    "total_mean_time = [sum(tup) for tup in group]\n",
    "for i in data_points:\n",
    "    print(\"The mean time for worst cases for\", i, \"data points are:\", (total_mean_time[count]/5), \"seconds\")\n",
    "    count += 1\n"
   ]
  },
  {
   "cell_type": "code",
   "execution_count": null,
   "metadata": {},
   "outputs": [],
   "source": []
  }
 ],
 "metadata": {
  "kernelspec": {
   "display_name": "Python 3",
   "language": "python",
   "name": "python3"
  },
  "language_info": {
   "codemirror_mode": {
    "name": "ipython",
    "version": 3
   },
   "file_extension": ".py",
   "mimetype": "text/x-python",
   "name": "python",
   "nbconvert_exporter": "python",
   "pygments_lexer": "ipython3",
   "version": "3.9.0"
  }
 },
 "nbformat": 4,
 "nbformat_minor": 4
}
