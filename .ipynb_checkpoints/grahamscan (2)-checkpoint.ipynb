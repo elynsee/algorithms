{
 "cells": [
  {
   "cell_type": "markdown",
   "metadata": {},
   "source": [
    "# Graham scan algorithm"
   ]
  },
  {
   "cell_type": "markdown",
   "metadata": {},
   "source": [
    "Use the cell below for all python code needed to realise the Graham scan algorithm (including any auxiliary data structures and functions you might need). The `grahamscan()` function itself should take as input parameter a list of 2D points (`inputSet`), and return the subset of such points that lie on the convex hull (`outputSet`)."
   ]
  },
  {
   "cell_type": "code",
   "execution_count": 1,
   "metadata": {},
   "outputs": [],
   "source": [
    "import math\n",
    " \n",
    "def heapify(listOfPoints,lowPoint, size , i):\n",
    "    #i isa the root of the subtree\n",
    "    largest = i \n",
    "    left = 2*i +1\n",
    "    right = 2*i +2\n",
    "    #check if left child exists and is bigger than root\n",
    "    if left < size and polarAngle(listOfPoints[largest], lowPoint) < polarAngle(listOfPoints[left], lowPoint) :\n",
    "        largest = left\n",
    "    #same with right child and being bigger than the largest\n",
    "    if right < size and  polarAngle(listOfPoints[largest], lowPoint) < polarAngle(listOfPoints[right], lowPoint):\n",
    "        largest = right\n",
    "    # if it changed swap\n",
    "    if largest != i :\n",
    "        (listOfPoints[i], listOfPoints[largest]) = (listOfPoints[largest], listOfPoints[i])\n",
    "        #apply the function again on the swapped root's new subtree\n",
    "        heapify(listOfPoints, lowPoint, size, largest)\n",
    "\n",
    "def heapsort(listOfPoints, lowPoint):\n",
    "    n = len(listOfPoints)\n",
    "    #start at the last parent which is located at index n/2 - 1\n",
    "    # we build the heap from the bottom up\n",
    "    for i in range (n//2 -1, -1, -1):\n",
    "        heapify (listOfPoints, lowPoint,n, i)\n",
    "\n",
    "    for i in range(n-1, 0 , -1):\n",
    "        listOfPoints[i], listOfPoints[0] = listOfPoints[0], listOfPoints[i]\n",
    "        #heapify the root after swapping(sinking)\n",
    "        heapify (listOfPoints, lowPoint, i, 0)\n",
    "\n",
    "def Radius(point, lowPoint):\n",
    "    r = math.sqrt((((point[0] - lowPoint[0])**2) + ((point[1] - lowPoint[1])**2)))\n",
    "    return r\n",
    "\n",
    "def polarAngle (point, lowPoint):\n",
    "    Y_total = point[1] - lowPoint[1]\n",
    "    X_total = point[0] - lowPoint[0]\n",
    "    if Y_total == 0 and X_total == 0:\n",
    "        return -math.inf #different from 0 so as to not cause any problem for any angle comparison as it is a special point\n",
    "    else :\n",
    "        return math.atan2(Y_total,X_total)    \n",
    "\n",
    "\n",
    "def polarCO(listOfPoints, lowPoint):\n",
    "    polarCO = []\n",
    "    print(listOfPoints)\n",
    "    for coordinate in listOfPoints:\n",
    "        r = math.sqrt((((coordinate[0] - lowPoint[0])**2) + ((coordinate[1] - lowPoint[1])**2)))\n",
    "        Angle = math.atan(coordinate[1]/coordinate[0])\n",
    "        subPoints = [round(r, 2), round(math.degrees(Angle), 2)]\n",
    "        polarCO.append(subPoints)  \n",
    "    return polarCO  \n",
    "    #sort(polarCO)\n",
    "\n",
    "#def mapper(CartesianCO):\n",
    "    \n",
    "#function to find lowest and leftmost point\n",
    "def lowy_left(inputData):\n",
    "    lowPoint = [math.inf, math.inf]\n",
    "    for point in inputData:\n",
    "        if point[1] < lowPoint[1]:\n",
    "            lowPoint[0] = point [0]\n",
    "            lowPoint[1] = point [1]\n",
    "        elif point[1] == lowPoint[1] and point[0] < lowPoint[0]:\n",
    "            lowPoint[0] = point [0]\n",
    "            lowPoint[1] = point [1]\n",
    "    return lowPoint\n",
    "\n",
    "def removeColinear(sortedPoints, lowPoint):\n",
    "    for i in range(len(sortedPoints)-1, 0, -1):\n",
    "        if polarAngle(sortedPoints[i], lowPoint) == polarAngle(sortedPoints[i-1], lowPoint) :\n",
    "            if Radius(sortedPoints[i], lowPoint) <= Radius(sortedPoints[i-1], lowPoint):\n",
    "                del sortedPoints[i]\n",
    "            else :\n",
    "                del sortedPoints[i-1]\n",
    "                \n",
    "# def sortTest(listOfPoints):\n",
    "#     lowestPoint = lowy_left(listOfPoints)\n",
    "#     heapsort(listOfPoints, lowestPoint) \n",
    "#     removeColinear(listOfPoints ,lowestPoint)\n",
    "#     n = len(listOfPoints)\n",
    "#     for i in range(n):\n",
    "#         print( listOfPoints[i])\n",
    "#         print (polarAngle (listOfPoints[i], lowestPoint) )\n",
    "\n",
    "#sortTest([[1,1], [2,2] , [3, 3], [4,4], [1,4], [3,1], [1, 5], [2, 4], [3, 5]])\n",
    "\n",
    "def clockwiseTurns(p1, p2, p3):\n",
    "    return ( (p2[0]-p1[0])*(p3[1]-p1[1]) - (p2[1] - p1[1])*(p3[0]-p1[0])   )\n",
    "    \n",
    "\n",
    "def grahamscan(inputSet):\n",
    "    #let points be the list of points\n",
    "    #let stack = empty_stack()\n",
    "    points = inputSet #list of points\n",
    "    outputSet = [] #outputSet is used as a stack\n",
    "    \n",
    "    #find the lowest y-coordinate and leftmost point, called P0\n",
    "    lowPoint = lowy_left(inputSet)\n",
    "    heapsort(points, lowPoint)\n",
    "#     print(points)\n",
    "    removeColinear(points,lowPoint)\n",
    "#     print(points)\n",
    "    \n",
    "    \"\"\"\n",
    "    for point in points:\n",
    "        # pop the last point from the stack if we turn clockwise to reach this point\n",
    "        while count stack > 1 and clockwiseTurns(outputSet[-2], outputSet[-1], point) <= 0:\n",
    "            pop stack\n",
    "        push point to stack\"\"\"\n",
    "    for currentPoint in points:\n",
    "        while len(outputSet) > 1 and clockwiseTurns(outputSet[-2], outputSet[-1], currentPoint) <= 0:   \n",
    "            outputSet.pop()\n",
    "        outputSet.append(currentPoint)    \n",
    "    return outputSet "
   ]
  },
  {
   "cell_type": "markdown",
   "metadata": {},
   "source": [
    "Use the cell below for all python code needed to generate test data points (both random and those representing worst-case scenario)."
   ]
  },
  {
   "cell_type": "code",
   "execution_count": 2,
   "metadata": {},
   "outputs": [],
   "source": [
    "import random\n",
    "\n",
    "maximumX = 32767\n",
    "maximumY = 32767\n",
    "minX = 0\n",
    "minY = 0\n",
    "mid = [(maximumX-minX)/2, (maximumY-minY)/2]\n",
    "data_points = [100,500,1000,5000,10000,15000,20000]\n",
    "\n",
    "# code for random data generation\n",
    "def random_data_generation(n):\n",
    "    points = []\n",
    "    for p in range(n):\n",
    "        while True:\n",
    "            x = random.randint(minX, maximumX)\n",
    "            y = random.randint(minY, maximumY)\n",
    "            point = [x,y]\n",
    "            if point not in points:\n",
    "                break\n",
    "        points.append(point) \n",
    "    return points\n",
    "\n",
    "# code for worst case data generation\n",
    "def worst_data_generation(n):\n",
    "    points = [[1,1],[30000,1],[15000,30000]]\n",
    "    while len(points)<=n:\n",
    "        x = random.randint(1, 30000)\n",
    "        y = random.randint(1, 30000)\n",
    "        point = [x,y]\n",
    "        if clockwiseTurns([1,1],point,[30000,1])<0 and clockwiseTurns([30000,1],point,[15000,30000])<0 and clockwiseTurns([15000,30000],point,[1,1])<0 and point not in points:\n",
    "            points.append(point)  \n",
    "    return points"
   ]
  },
  {
   "cell_type": "markdown",
   "metadata": {},
   "source": [
    "Use the cell below for all python code needed to test the `grahamscan()` function on the data generated above."
   ]
  },
  {
   "cell_type": "code",
   "execution_count": 8,
   "metadata": {},
   "outputs": [],
   "source": [
    "import timeit\n",
    "\n",
    "#test code for random data generation\n",
    "def random_time(points, test):\n",
    "    data = random_data_generation(points)\n",
    "    total_time = 0\n",
    "    for i in range(test):\n",
    "        start_time = timeit.default_timer()\n",
    "        grahamscan(data)\n",
    "        time = timeit.default_timer() - start_time\n",
    "        total_time += time\n",
    "    return total_time/test\n",
    "\n",
    "#test code for worst case data generation\n",
    "def worst_time(points, test):\n",
    "    data = worst_data_generation(points)\n",
    "    total_time = 0\n",
    "    for i in range(test):\n",
    "        start_time = timeit.default_timer()\n",
    "        grahamscan(data)\n",
    "        time = timeit.default_timer() - start_time\n",
    "        total_time += time\n",
    "    return total_time/test"
   ]
  },
  {
   "cell_type": "markdown",
   "metadata": {},
   "source": [
    "*Oprional*: Feel free to use the code below on small datasets (e.g., N = 10) to visually inspect whether the algorithm has been implemented correctly. The fragment below assumes both `inputSet` and `outputSet` to be lists of 2D points, with each point being a list of 2 elements (e.g., `[[x1,y1], [x2,y2], ..., [x_k,y_k]]`)"
   ]
  },
  {
   "cell_type": "markdown",
   "metadata": {},
   "source": [
    "## Plotting Graph"
   ]
  },
  {
   "cell_type": "code",
   "execution_count": 9,
   "metadata": {},
   "outputs": [],
   "source": [
    "import matplotlib.pyplot as plt\n",
    "\n",
    "def plot(times):\n",
    "    data_points = [100,500,1000,5000,10000,15000,20000]\n",
    "    fig = plt.figure()\n",
    "    graph = fig.add_subplot(111)\n",
    "    graph.set(title='Graph of Mean Timings against Number of Points', ylabel='Time(minutes)', xlabel='Number of points')\n",
    "    graph.plot(data_points, times)\n",
    "    plt.show()"
   ]
  },
  {
   "cell_type": "markdown",
   "metadata": {},
   "source": [
    "## Test for Random Case"
   ]
  },
  {
   "cell_type": "code",
   "execution_count": 14,
   "metadata": {},
   "outputs": [
    {
     "name": "stdout",
     "output_type": "stream",
     "text": [
      "The mean time for random cases for 100  data points are: 0.0013591670000118938\n",
      "The mean time for random cases for 500  data points are: 0.00923801999999796\n",
      "The mean time for random cases for 1000  data points are: 0.020417480000003253\n",
      "The mean time for random cases for 5000  data points are: 0.12843600999999125\n",
      "The mean time for random cases for 10000  data points are: 0.2788729179999996\n",
      "The mean time for random cases for 15000  data points are: 0.4339216149999993\n",
      "The mean time for random cases for 20000  data points are: 0.606385011000009\n"
     ]
    },
    {
     "data": {
      "image/png": "[encoded data removed]",
      "text/plain": [
       "<Figure size 432x288 with 1 Axes>"
      ]
     },
     "metadata": {
      "needs_background": "light"
     },
     "output_type": "display_data"
    }
   ],
   "source": [
    "random_time_total = []\n",
    "\n",
    "#compute the mean execution time for all 7 data points\n",
    "for i in data_points:\n",
    "    exec_random_time = random_time(i, 100)\n",
    "    print(\"The mean time for random cases for\", i, \" data points are:\", exec_random_time)\n",
    "    random_time_total.append(exec_random_time)\n",
    "\n",
    "#plot all the mean execution times in a graph\n",
    "plot(random_time_total)"
   ]
  },
  {
   "cell_type": "markdown",
   "metadata": {},
   "source": [
    "## Test for Worst Case"
   ]
  },
  {
   "cell_type": "code",
   "execution_count": 3,
   "metadata": {},
   "outputs": [
    {
     "output_type": "error",
     "ename": "NameError",
     "evalue": "name 'worst_time' is not defined",
     "traceback": [
      "\u001b[1;31m---------------------------------------------------------------------------\u001b[0m",
      "\u001b[1;31mNameError\u001b[0m                                 Traceback (most recent call last)",
      "\u001b[1;32m<ipython-input-3-fcce0a2b8df8>\u001b[0m in \u001b[0;36m<module>\u001b[1;34m\u001b[0m\n\u001b[0;32m      3\u001b[0m \u001b[1;31m#compute the mean execution time for all 7 data points\u001b[0m\u001b[1;33m\u001b[0m\u001b[1;33m\u001b[0m\u001b[1;33m\u001b[0m\u001b[0m\n\u001b[0;32m      4\u001b[0m \u001b[1;32mfor\u001b[0m \u001b[0mi\u001b[0m \u001b[1;32min\u001b[0m \u001b[0mdata_points\u001b[0m\u001b[1;33m:\u001b[0m\u001b[1;33m\u001b[0m\u001b[1;33m\u001b[0m\u001b[0m\n\u001b[1;32m----> 5\u001b[1;33m     \u001b[0mexec_worst_time\u001b[0m \u001b[1;33m=\u001b[0m \u001b[0mworst_time\u001b[0m\u001b[1;33m(\u001b[0m\u001b[0mi\u001b[0m\u001b[1;33m,\u001b[0m \u001b[1;36m100\u001b[0m\u001b[1;33m)\u001b[0m\u001b[1;33m\u001b[0m\u001b[1;33m\u001b[0m\u001b[0m\n\u001b[0m\u001b[0;32m      6\u001b[0m     \u001b[0mprint\u001b[0m\u001b[1;33m(\u001b[0m\u001b[1;34m\"The mean time for worst cases for\"\u001b[0m\u001b[1;33m,\u001b[0m \u001b[0mi\u001b[0m\u001b[1;33m,\u001b[0m \u001b[1;34m\"data points are:\"\u001b[0m\u001b[1;33m,\u001b[0m \u001b[0mexec_worst_time\u001b[0m\u001b[1;33m)\u001b[0m\u001b[1;33m\u001b[0m\u001b[1;33m\u001b[0m\u001b[0m\n\u001b[0;32m      7\u001b[0m     \u001b[0mworst_time_total\u001b[0m\u001b[1;33m.\u001b[0m\u001b[0mappend\u001b[0m\u001b[1;33m(\u001b[0m\u001b[0mexec_worst_time\u001b[0m\u001b[1;33m)\u001b[0m\u001b[1;33m\u001b[0m\u001b[1;33m\u001b[0m\u001b[0m\n",
      "\u001b[1;31mNameError\u001b[0m: name 'worst_time' is not defined"
     ]
    }
   ],
   "source": [
    "worst_time_total = []\n",
    "\n",
    "#compute the mean execution time for all 7 data points\n",
    "for i in data_points:\n",
    "    exec_worst_time = worst_time(i, 100)\n",
    "    print(\"The mean time for worst cases for\", i, \"data points are:\", exec_worst_time)\n",
    "    worst_time_total.append(exec_worst_time)\n",
    "    \n",
    "#plot all the mean execution times in a graph\n",
    "plot(worst_time_total)"
   ]
  },
  {
   "cell_type": "markdown",
   "metadata": {},
   "source": [
    "## Extra Code"
   ]
  },
  {
   "cell_type": "code",
   "execution_count": 2,
   "metadata": {},
   "outputs": [
    {
     "data": {
      "image/png": "[encoded data removed]",
      "text/plain": [
       "<Figure size 432x288 with 1 Axes>"
      ]
     },
     "metadata": {
      "needs_background": "light"
     },
     "output_type": "display_data"
    }
   ],
   "source": [
    "import matplotlib.pyplot as plt\n",
    "\n",
    "# inputSet and outputSet should have been defined above. \n",
    "# uncomment the next two lines only if you wish to test the plotting code before coding your algorithm\n",
    "\n",
    "#inputSet = [[1,1], [2,2] , [3, 3], [4,4], [1,4], [3,1], [1, 5], [2, 4], [3, 5]]\n",
    "#outputSet = [[1,1], [3,1] , [4, 4], [3,5], [1,5]]\n",
    "\n",
    "plt.figure()\n",
    "\n",
    "#first do a scatter plot of the inputSet\n",
    "input_xs, input_ys = zip(*inputSet)\n",
    "plt.scatter(input_xs, input_ys)\n",
    "\n",
    "#then do a polygon plot of the computed covex hull\n",
    "outputSet.append(outputSet[0]) #first create a 'closed loop' by adding the first point at the end of the list\n",
    "output_xs, output_ys = zip(*outputSet) \n",
    "plt.plot(output_xs, output_ys) \n",
    "\n",
    "plt.show() "
   ]
  }
 ],
 "metadata": {
  "kernelspec": {
   "display_name": "Python 3",
   "language": "python",
   "name": "python3"
  },
  "language_info": {
   "codemirror_mode": {
    "name": "ipython",
    "version": 3
   },
   "file_extension": ".py",
   "mimetype": "text/x-python",
   "name": "python",
   "nbconvert_exporter": "python",
   "pygments_lexer": "ipython3",
   "version": "3.8.7-final"
  }
 },
 "nbformat": 4,
 "nbformat_minor": 4
}