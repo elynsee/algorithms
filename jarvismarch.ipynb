{
 "cells": [
  {
   "cell_type": "markdown",
   "metadata": {},
   "source": [
    "# Jarvis march algorithm"
   ]
  },
  {
   "cell_type": "markdown",
   "metadata": {},
   "source": [
    "Use the cell below for all python code needed to realise the Jarvis march algorithm (including any auxiliary data structures and functions you might need). The `jarvismarch()` function itself should take as input parameter a list of 2D points (`inputSet`), and return the subset of such points (`outputSet`) that lie on the convex hull."
   ]
  },
  {
   "cell_type": "code",
   "execution_count": 1,
   "metadata": {},
   "outputs": [],
   "source": [
    "import random\n",
    "\n",
    "def find_leftmost(points):\n",
    "    #Set an abitrary point in set to be initial leftmost\n",
    "    leftmost = points[0]\n",
    "    #For each point in the set, if its x value is lower than the current leftmost's, it's the new leftmost\n",
    "    for point in points:\n",
    "        if point[0]<leftmost[0]:\n",
    "            leftmost = point\n",
    "    return leftmost\n",
    "\n",
    "def cross_product(a, b, c):\n",
    "    #   If the result is negative, a->c is clockwise to a->b\n",
    "    #   Elif the result is positive, a->c is anti-clockwise to a->b\n",
    "    #   Else the result is zero, so b and c are colinear\n",
    "    x_1 = a[0] - b[0] #Difference in x of a and b\n",
    "    x_2 = a[0] - c[0] #'' of a and c\n",
    "    y_1 = a[1] - b[1] #Difference in y of a and b\n",
    "    y_2 = a[1] - c[1] #'' of a and c\n",
    "    return y_2 * x_1 - y_1 * x_2\n",
    "\n",
    "def distance(a, b):\n",
    "    return ( (a[0]-b[0])**2 + (a[1]-b[1])**2 ) ** (1/2) #Pythagoras' theorem\n",
    "\n",
    "def jarvismarch(points):\n",
    "    if len(points) < 3:\n",
    "        raise ValueError(\"Too few points in input.\")\n",
    "    hull = []\n",
    "    leftmost = find_leftmost(points)\n",
    "    #The leftmost point in the set is certainly in the convex hull\n",
    "    hull.append(leftmost)\n",
    "    current_point = leftmost\n",
    "\n",
    "    while True:\n",
    "        target = points[0] #Tracks the most anti-clockwise point to the current point found so far\n",
    "        colinears = []\n",
    "        \n",
    "        #Find point which follows the current point. That is, the point which is most to the left of the current point from its perspective\n",
    "        for point in points:\n",
    "            if point==current_point or point==target:\n",
    "                continue\n",
    "            cross = cross_product(current_point, target, point)\n",
    "            if cross<0: #The new point is clockwise to target, so disregard it\n",
    "                continue\n",
    "            elif cross>0: #The new point is anti-clockwise to target, so it's more likely to be in convex hull\n",
    "                target = point\n",
    "                colinears = [] #Reset colinears\n",
    "            else: #The new point is colinear to target. Add closer one to colinears, and set furthur one as target\n",
    "                if distance(current_point, target)<distance(current_point, point):\n",
    "                    #colinears.append(target)\n",
    "                    target = point      \n",
    "        if target == leftmost: #If we've wrapped back around to the first point, the hull is sealed\n",
    "            break\n",
    "\n",
    "        hull.append(target)\n",
    "        current_point = target\n",
    "    return hull"
   ]
  },
  {
   "cell_type": "markdown",
   "metadata": {},
   "source": [
    "Use the cell below for all python code needed to generate test data points (both random and those representing worst-case scenario)."
   ]
  },
  {
   "cell_type": "code",
   "execution_count": 2,
   "metadata": {},
   "outputs": [],
   "source": [
    "import random\n",
    "import math\n",
    "\n",
    "maximumX = 32767\n",
    "maximumY = 32767\n",
    "minX = 0\n",
    "minY = 0\n",
    "mid = [(maximumX-minX)/2, (maximumY-minY)/2]\n",
    "data_points = [100, 500, 1000, 5000, 10000, 15000, 20000]\n",
    "\n",
    "# code for random data generation\n",
    "def random_data_generation(n):\n",
    "    points = []\n",
    "    for p in range(n):\n",
    "        while True:\n",
    "            x = random.randint(minX, maximumX)\n",
    "            y = random.randint(minY, maximumY)\n",
    "            point = [x,y]\n",
    "            if point not in points:\n",
    "                break\n",
    "        points.append(point)\n",
    "    return points\n",
    "\n",
    "# code for worst case data generation\n",
    "# worst case scenario is to put all points on a circle\n",
    "def worst_data_generation(n):\n",
    "    radius = maximumX//2\n",
    "    points = []\n",
    "    pi = math.pi\n",
    "    for p in range(n):\n",
    "        angle = random.uniform(0, 2*pi)\n",
    "        x = radius * math.cos(angle)\n",
    "        y = radius * math.sin(angle)\n",
    "        point = [x,y]\n",
    "        points.append(point)\n",
    "    return points"
   ]
  },
  {
   "cell_type": "markdown",
   "metadata": {},
   "source": [
    "Use the cell below for all python code needed to test the `jarvismarch()` function on the data generated above."
   ]
  },
  {
   "cell_type": "code",
   "execution_count": 3,
   "metadata": {},
   "outputs": [],
   "source": [
    "import timeit\n",
    "\n",
    "#test code for random data generation\n",
    "def random_time(points, iterations):\n",
    "    time_data = []\n",
    "    data = random_data_generation(points)\n",
    "    total_time = 0\n",
    "    for i in range(iterations):\n",
    "        start_time = timeit.default_timer()\n",
    "        jarvismarch(data)\n",
    "        time = timeit.default_timer() - start_time\n",
    "        time_data.append(time)\n",
    "    return time_data\n",
    "\n",
    "#test code for worst case data generation\n",
    "def worst_time(points, iterations):\n",
    "    time_data = []\n",
    "    data = worst_data_generation(points)\n",
    "    total_time = 0\n",
    "    for i in range(iterations):\n",
    "        start_time = timeit.default_timer()\n",
    "        jarvismarch(data)\n",
    "        time = timeit.default_timer() - start_time\n",
    "        time_data.append(time)\n",
    "    return time_data"
   ]
  },
  {
   "cell_type": "markdown",
   "metadata": {},
   "source": [
    "*Optional*: Feel free to use the code below on small datasets (e.g., N = 10) to visually inspect whether the algorithm has been implemented correctly. The fragment below assumes both `inputSet` and `outputSet` to be lists of 2D points, with each point being a list of 2 elements (e.g., `[[x1,y1], [x2,y2], ..., [x_k,y_k]]`)"
   ]
  },
  {
   "cell_type": "markdown",
   "metadata": {},
   "source": [
    "## Plotting Graphs"
   ]
  },
  {
   "cell_type": "code",
   "execution_count": 4,
   "metadata": {},
   "outputs": [],
   "source": [
    "import matplotlib.pyplot as plt\n",
    "import numpy as np\n",
    "\n",
    "# plot a scattergraph with a line of best fit for all execution timings across 5 iterations  \n",
    "def plot_scatter(x, y):\n",
    "    #plot scattergraph\n",
    "    plt.scatter(x,y)\n",
    "    plt.title(\"Scatterplot of Results through 5 Iterations\")\n",
    "    plt.xlabel(\"Number of Points\")\n",
    "    plt.ylabel(\"Time (secs)\") \n",
    "    \n",
    "    #plot best-fit line\n",
    "    plt.plot(np.unique(x), np.poly1d(np.polyfit(x, y, 1))(np.unique(x)), color='red')\n",
    "    plt.show()"
   ]
  },
  {
   "cell_type": "markdown",
   "metadata": {},
   "source": [
    "## Test for Random Data"
   ]
  },
  {
   "cell_type": "code",
   "execution_count": 5,
   "metadata": {},
   "outputs": [
    {
     "data": {
      "image/png": "[encoded data removed]",
      "text/plain": [
       "<Figure size 432x288 with 1 Axes>"
      ]
     },
     "metadata": {
      "needs_background": "light"
     },
     "output_type": "display_data"
    },
    {
     "name": "stdout",
     "output_type": "stream",
     "text": [
      "The mean time for random cases for 100 data points are: 0.0007905000000000939 seconds\n",
      "The mean time for random cases for 500 data points are: 0.009756199999999637 seconds\n",
      "The mean time for random cases for 1000 data points are: 0.014753839999999485 seconds\n",
      "The mean time for random cases for 5000 data points are: 0.06641409999999937 seconds\n",
      "The mean time for random cases for 10000 data points are: 0.19486281999999946 seconds\n",
      "The mean time for random cases for 15000 data points are: 0.27741110000000047 seconds\n",
      "The mean time for random cases for 20000 data points are: 0.39198877999999837 seconds\n"
     ]
    }
   ],
   "source": [
    "all_random_time = []\n",
    "scatter_data = []\n",
    "total_mean_time = []\n",
    "count = 0\n",
    "iterations = 5\n",
    "\n",
    "for i in data_points:\n",
    "    all_random_time = random_time(i, iterations)\n",
    "    for data in all_random_time:\n",
    "        scatter_data.append([i, data])\n",
    "\n",
    "#plot scattergraph of results\n",
    "input_xs, input_ys = zip(*scatter_data)\n",
    "plot_scatter(input_xs, input_ys)\n",
    "\n",
    "#to group tuple in groups of 5\n",
    "def grouper(n, iterable): \n",
    "    args = [iter(iterable)] * n \n",
    "    return zip(*args) \n",
    "\n",
    "#print mean execution timings of each data point\n",
    "group = tuple(grouper(5, input_ys))  \n",
    "total_mean_time = [sum(tup) for tup in group]\n",
    "for i in data_points:\n",
    "    print(\"The mean time for random cases for\", i, \"data points are:\", (total_mean_time[count]/5), \"seconds\")\n",
    "    count += 1\n",
    "\n",
    "\n"
   ]
  },
  {
   "cell_type": "markdown",
   "metadata": {},
   "source": [
    "## Test for Worst Case"
   ]
  },
  {
   "cell_type": "code",
   "execution_count": null,
   "metadata": {},
   "outputs": [],
   "source": [
    "all_worst_time = []\n",
    "scatter_data = []\n",
    "total_mean_time = []\n",
    "count = 0\n",
    "iterations = 5\n",
    "\n",
    "for i in data_points:\n",
    "    all_worst_time = worst_time(i, iterations)\n",
    "    for data in all_worst_time:\n",
    "        scatter_data.append([i, data])\n",
    "\n",
    "#plot scattergraph of results\n",
    "input_xs, input_ys = zip(*scatter_data)\n",
    "plot_scatter(input_xs, input_ys)\n",
    "\n",
    "#to group tuple in groups of 5\n",
    "def grouper(n, iterable): \n",
    "    args = [iter(iterable)] * n \n",
    "    return zip(*args) \n",
    "\n",
    "#print mean execution timings of each data point\n",
    "group = tuple(grouper(5, input_ys))  \n",
    "total_mean_time = [sum(tup) for tup in group]\n",
    "for i in data_points:\n",
    "    print(\"The mean time for worst cases for\", i, \"data points are:\", (total_mean_time[count]/5), \"seconds\")\n",
    "    count += 1\n"
   ]
  },
  {
   "cell_type": "code",
   "execution_count": null,
   "metadata": {},
   "outputs": [],
   "source": []
  }
 ],
 "metadata": {
  "kernelspec": {
   "display_name": "Python 3",
   "language": "python",
   "name": "python3"
  },
  "language_info": {
   "codemirror_mode": {
    "name": "ipython",
    "version": 3
   },
   "file_extension": ".py",
   "mimetype": "text/x-python",
   "name": "python",
   "nbconvert_exporter": "python",
   "pygments_lexer": "ipython3",
   "version": "3.9.0"
  }
 },
 "nbformat": 4,
 "nbformat_minor": 4
}
